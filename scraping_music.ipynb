{
 "cells": [
  {
   "cell_type": "markdown",
   "metadata": {},
   "source": [
    "# Looking at YouTube view count growth for top MVs "
   ]
  },
  {
   "cell_type": "markdown",
   "metadata": {},
   "source": [
    "## Strategy: \n",
    "\n",
    "1. We are going to write two scripts. One is going to get the url and title of the MV. Anotehr is going to write a script to collect the views of the music video from a specific time period. This should also contain the url. \n",
    "2. We are going to look at the top 5 trending on Youtube. "
   ]
  },
  {
   "cell_type": "code",
   "execution_count": 1,
   "metadata": {},
   "outputs": [],
   "source": [
    "%load_ext autoreload\n",
    "%autoreload 2"
   ]
  },
  {
   "cell_type": "markdown",
   "metadata": {},
   "source": [
    "## Importing our libraries "
   ]
  },
  {
   "cell_type": "code",
   "execution_count": 2,
   "metadata": {},
   "outputs": [],
   "source": [
    "import requests\n",
    "import random\n",
    "import time\n",
    "from selenium.webdriver import Chrome\n",
    "# from scrape_functions import (\n",
    "#     get_comic_title,\n",
    "#     find_image,\n",
    "#     scrape_image,\n",
    "#     get_prev)"
   ]
  },
  {
   "cell_type": "code",
   "execution_count": 3,
   "metadata": {},
   "outputs": [],
   "source": [
    "browser = Chrome()\n",
    "url = \"https://www.youtube.com/feed/trending\"\n",
    "browser.get(url)"
   ]
  },
  {
   "cell_type": "code",
   "execution_count": 4,
   "metadata": {},
   "outputs": [],
   "source": [
    "import requests\n",
    "\n",
    "def get_mv_title(browser):\n",
    "    \"\"\"Return the title text\"\"\"\n",
    "    title = browser.find_element_by_id('video-title')\n",
    "    return title"
   ]
  },
  {
   "cell_type": "code",
   "execution_count": 5,
   "metadata": {},
   "outputs": [],
   "source": [
    "def get_mv_url(title):\n",
    "    \"\"\"Return the url text\"\"\"\n",
    "    return title.get_attribute('href')"
   ]
  },
  {
   "cell_type": "code",
   "execution_count": 6,
   "metadata": {},
   "outputs": [],
   "source": [
    "from datetime import datetime\n",
    "\n",
    "def get_view_count(browser, url):\n",
    "    browser.get(url)\n",
    "    time.sleep(3)\n",
    "    \"\"\"Return the view count\"\"\"\n",
    "    today = datetime.now()\n",
    "    sel = 'span.view-count'\n",
    "    view_count = browser.find_element_by_css_selector(sel).text\n",
    "    return int(view_count.split()[0].replace(\",\",\"\")), today"
   ]
  },
  {
   "cell_type": "code",
   "execution_count": 8,
   "metadata": {},
   "outputs": [],
   "source": [
    "count, today = get_view_count(browser, url)"
   ]
  },
  {
   "cell_type": "code",
   "execution_count": null,
   "metadata": {},
   "outputs": [],
   "source": [
    "#count"
   ]
  },
  {
   "cell_type": "code",
   "execution_count": 13,
   "metadata": {},
   "outputs": [],
   "source": [
    "url = \"https://www.youtube.com/results?search_query=%23music+video\"\n",
    "browser.get(url)\n",
    "time.sleep(5)\n",
    "videolinks = browser.find_elements_by_id('video-title')\n",
    "videos = [(link.text, link.get_attribute('href')) for link in videolinks]\n",
    "\n",
    "info = []\n",
    "for title, url in videos[:5]:\n",
    "#     title = get_mv_title(video)\n",
    "    view_count, today = get_view_count(browser, url)\n",
    "    info.append({'title': title,\n",
    "                 'url': url,\n",
    "                 'view_count': view_count,\n",
    "                 'today': today})"
   ]
  },
  {
   "cell_type": "code",
   "execution_count": 14,
   "metadata": {},
   "outputs": [],
   "source": [
    "import pandas as pd"
   ]
  },
  {
   "cell_type": "code",
   "execution_count": 15,
   "metadata": {},
   "outputs": [],
   "source": [
    "df = pd.DataFrame(info)"
   ]
  },
  {
   "cell_type": "code",
   "execution_count": 16,
   "metadata": {
    "scrolled": true
   },
   "outputs": [
    {
     "data": {
      "text/html": [
       "<div>\n",
       "<style scoped>\n",
       "    .dataframe tbody tr th:only-of-type {\n",
       "        vertical-align: middle;\n",
       "    }\n",
       "\n",
       "    .dataframe tbody tr th {\n",
       "        vertical-align: top;\n",
       "    }\n",
       "\n",
       "    .dataframe thead th {\n",
       "        text-align: right;\n",
       "    }\n",
       "</style>\n",
       "<table border=\"1\" class=\"dataframe\">\n",
       "  <thead>\n",
       "    <tr style=\"text-align: right;\">\n",
       "      <th></th>\n",
       "      <th>title</th>\n",
       "      <th>today</th>\n",
       "      <th>url</th>\n",
       "      <th>view_count</th>\n",
       "    </tr>\n",
       "  </thead>\n",
       "  <tbody>\n",
       "    <tr>\n",
       "      <th>0</th>\n",
       "      <td>Cardi B &amp; Bruno Mars - Please Me (Official Video)</td>\n",
       "      <td>2019-04-26 16:04:36.969268</td>\n",
       "      <td>https://www.youtube.com/watch?v=3y-O-4IL-PU</td>\n",
       "      <td>162980871</td>\n",
       "    </tr>\n",
       "    <tr>\n",
       "      <th>1</th>\n",
       "      <td>City Girls - Twerk ft. Cardi B (Official Music...</td>\n",
       "      <td>2019-04-26 16:04:40.931504</td>\n",
       "      <td>https://www.youtube.com/watch?v=QryoOF5jEbc</td>\n",
       "      <td>74611782</td>\n",
       "    </tr>\n",
       "    <tr>\n",
       "      <th>2</th>\n",
       "      <td>Post Malone - \"Wow.\" (Official Music Video)</td>\n",
       "      <td>2019-04-26 16:04:45.497546</td>\n",
       "      <td>https://www.youtube.com/watch?v=393C3pr2ioY</td>\n",
       "      <td>49863745</td>\n",
       "    </tr>\n",
       "    <tr>\n",
       "      <th>3</th>\n",
       "      <td>Camila Cabello - Havana (Official Music VIdeo)...</td>\n",
       "      <td>2019-04-26 16:04:49.442050</td>\n",
       "      <td>https://www.youtube.com/watch?v=BQ0mxQXmLsk</td>\n",
       "      <td>763468761</td>\n",
       "    </tr>\n",
       "    <tr>\n",
       "      <th>4</th>\n",
       "      <td>Zara Larsson - Ruin My Life (Official Music Vi...</td>\n",
       "      <td>2019-04-26 16:04:53.691445</td>\n",
       "      <td>https://www.youtube.com/watch?v=3OTjFqWcDQY</td>\n",
       "      <td>41044996</td>\n",
       "    </tr>\n",
       "  </tbody>\n",
       "</table>\n",
       "</div>"
      ],
      "text/plain": [
       "                                               title  \\\n",
       "0  Cardi B & Bruno Mars - Please Me (Official Video)   \n",
       "1  City Girls - Twerk ft. Cardi B (Official Music...   \n",
       "2        Post Malone - \"Wow.\" (Official Music Video)   \n",
       "3  Camila Cabello - Havana (Official Music VIdeo)...   \n",
       "4  Zara Larsson - Ruin My Life (Official Music Vi...   \n",
       "\n",
       "                       today                                          url  \\\n",
       "0 2019-04-26 16:04:36.969268  https://www.youtube.com/watch?v=3y-O-4IL-PU   \n",
       "1 2019-04-26 16:04:40.931504  https://www.youtube.com/watch?v=QryoOF5jEbc   \n",
       "2 2019-04-26 16:04:45.497546  https://www.youtube.com/watch?v=393C3pr2ioY   \n",
       "3 2019-04-26 16:04:49.442050  https://www.youtube.com/watch?v=BQ0mxQXmLsk   \n",
       "4 2019-04-26 16:04:53.691445  https://www.youtube.com/watch?v=3OTjFqWcDQY   \n",
       "\n",
       "   view_count  \n",
       "0   162980871  \n",
       "1    74611782  \n",
       "2    49863745  \n",
       "3   763468761  \n",
       "4    41044996  "
      ]
     },
     "execution_count": 16,
     "metadata": {},
     "output_type": "execute_result"
    }
   ],
   "source": [
    "df.head()"
   ]
  },
  {
   "cell_type": "markdown",
   "metadata": {},
   "source": [
    "## Saving the file "
   ]
  },
  {
   "cell_type": "code",
   "execution_count": null,
   "metadata": {},
   "outputs": [],
   "source": [
    "from pymongo import MongoClient \n",
    "from odo import odo\n",
    "\n",
    "# open connection\n",
    "connection = MongoClient()\n",
    "\n",
    "# get db\n",
    "db = connection.music_scraping.\n",
    "\n",
    "\n",
    "# insert df into <table> of <dataframe>\n",
    "odo(DF, db.<table>)"
   ]
  },
  {
   "cell_type": "code",
   "execution_count": null,
   "metadata": {},
   "outputs": [],
   "source": []
  }
 ],
 "metadata": {
  "kernelspec": {
   "display_name": "Python 3",
   "language": "python",
   "name": "python3"
  },
  "language_info": {
   "codemirror_mode": {
    "name": "ipython",
    "version": 3
   },
   "file_extension": ".py",
   "mimetype": "text/x-python",
   "name": "python",
   "nbconvert_exporter": "python",
   "pygments_lexer": "ipython3",
   "version": "3.6.6"
  }
 },
 "nbformat": 4,
 "nbformat_minor": 2
}
