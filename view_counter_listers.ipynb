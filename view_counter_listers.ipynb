{
 "cells": [
  {
   "cell_type": "code",
   "execution_count": 1,
   "metadata": {},
   "outputs": [],
   "source": [
    "%load_ext autoreload\n",
    "%autoreload 2"
   ]
  },
  {
   "cell_type": "code",
   "execution_count": 16,
   "metadata": {},
   "outputs": [],
   "source": [
    "import selenium\n",
    "import requests\n",
    "import random\n",
    "import time\n",
    "from selenium.webdriver import Chrome\n",
    "from selenium.webdriver import Firefox\n",
    "import pandas as pd\n",
    "from datetime import datetime"
   ]
  },
  {
   "cell_type": "code",
   "execution_count": 10,
   "metadata": {},
   "outputs": [],
   "source": [
    "browser = Chrome()\n",
    "url = \"https://www.youtube.com/watch?v=FuXNumBwDOM\"\n",
    "browser.get(url)"
   ]
  },
  {
   "cell_type": "code",
   "execution_count": 21,
   "metadata": {},
   "outputs": [],
   "source": [
    "def get_view_count(browser, url):\n",
    "    browser.get(url)\n",
    "    time.sleep(3)\n",
    "    \"\"\"Return the view count\"\"\"\n",
    "    as_of = datetime.now()\n",
    "    sel = 'span.view-count'\n",
    "    view_count = browser.find_element_by_css_selector(sel).text\n",
    "    return int(view_count.split()[0].replace(\",\",\"\")), as_of"
   ]
  },
  {
   "cell_type": "code",
   "execution_count": 59,
   "metadata": {},
   "outputs": [],
   "source": [
    " tailor_views = []"
   ]
  },
  {
   "cell_type": "code",
   "execution_count": 60,
   "metadata": {},
   "outputs": [],
   "source": [
    "def tailor_view_count(browser):\n",
    "   \n",
    "    browser = Firefox()\n",
    "    url = \"https://www.youtube.com/watch?v=FuXNumBwDOM\"\n",
    "    browser.get(url)\n",
    "    time.sleep(3)\n",
    "    \"\"\"Return the view count\"\"\"\n",
    "    as_of = datetime.now()\n",
    "    sel = 'span.view-count'\n",
    "    view_count = browser.find_element_by_css_selector(sel).text\n",
    "    snapshot = int(view_count.split()[0].replace(\",\",\"\")), as_of\n",
    "    tailor_views.append(snapshot)\n",
    "    return tailor_views"
   ]
  },
  {
   "cell_type": "code",
   "execution_count": 61,
   "metadata": {},
   "outputs": [
    {
     "data": {
      "text/plain": [
       "[(48890410, datetime.datetime(2019, 4, 26, 17, 58, 29, 565436))]"
      ]
     },
     "execution_count": 61,
     "metadata": {},
     "output_type": "execute_result"
    }
   ],
   "source": [
    "tailor_view_count(browser)"
   ]
  },
  {
   "cell_type": "code",
   "execution_count": 30,
   "metadata": {},
   "outputs": [],
   "source": [
    "fortnite_avengers_views = []"
   ]
  },
  {
   "cell_type": "code",
   "execution_count": 31,
   "metadata": {},
   "outputs": [],
   "source": [
    "def fortnite_avengers_view_count(browser):\n",
    "   \n",
    "    browser = Firefox()\n",
    "    url = \"https://www.youtube.com/watch?v=OM_QJkD-Mr8\"\n",
    "    browser.get(url)\n",
    "    time.sleep(3)\n",
    "    \"\"\"Return the view count\"\"\"\n",
    "    as_of = datetime.now()\n",
    "    sel = 'span.view-count'\n",
    "    view_count = browser.find_element_by_css_selector(sel).text\n",
    "    snapshot = int(view_count.split()[0].replace(\",\",\"\")), as_of\n",
    "    fortnite_avengers_views.append(snapshot)\n",
    "    return fortnite_avengers_views"
   ]
  },
  {
   "cell_type": "code",
   "execution_count": 34,
   "metadata": {},
   "outputs": [
    {
     "data": {
      "text/plain": [
       "[(6895003, datetime.datetime(2019, 4, 26, 17, 25, 46, 111582)),\n",
       " (6895003, datetime.datetime(2019, 4, 26, 17, 26, 7, 830930))]"
      ]
     },
     "execution_count": 34,
     "metadata": {},
     "output_type": "execute_result"
    }
   ],
   "source": [
    "fortnite_avengers_view_count(browser)"
   ]
  },
  {
   "cell_type": "code",
   "execution_count": 62,
   "metadata": {},
   "outputs": [
    {
     "data": {
      "text/html": [
       "<div>\n",
       "<style scoped>\n",
       "    .dataframe tbody tr th:only-of-type {\n",
       "        vertical-align: middle;\n",
       "    }\n",
       "\n",
       "    .dataframe tbody tr th {\n",
       "        vertical-align: top;\n",
       "    }\n",
       "\n",
       "    .dataframe thead th {\n",
       "        text-align: right;\n",
       "    }\n",
       "</style>\n",
       "<table border=\"1\" class=\"dataframe\">\n",
       "  <thead>\n",
       "    <tr style=\"text-align: right;\">\n",
       "      <th></th>\n",
       "      <th>0</th>\n",
       "      <th>1</th>\n",
       "    </tr>\n",
       "  </thead>\n",
       "  <tbody>\n",
       "    <tr>\n",
       "      <th>0</th>\n",
       "      <td>48890410</td>\n",
       "      <td>2019-04-26 17:58:29.565436</td>\n",
       "    </tr>\n",
       "  </tbody>\n",
       "</table>\n",
       "</div>"
      ],
      "text/plain": [
       "          0                          1\n",
       "0  48890410 2019-04-26 17:58:29.565436"
      ]
     },
     "execution_count": 62,
     "metadata": {},
     "output_type": "execute_result"
    }
   ],
   "source": [
    "ts = pd.DataFrame(tailor_views)\n",
    "# ts.collumns = [\"Tailor Swift Views\", \"As of\"]\n",
    "ts.head()"
   ]
  },
  {
   "cell_type": "code",
   "execution_count": 39,
   "metadata": {},
   "outputs": [
    {
     "data": {
      "text/html": [
       "<div>\n",
       "<style scoped>\n",
       "    .dataframe tbody tr th:only-of-type {\n",
       "        vertical-align: middle;\n",
       "    }\n",
       "\n",
       "    .dataframe tbody tr th {\n",
       "        vertical-align: top;\n",
       "    }\n",
       "\n",
       "    .dataframe thead th {\n",
       "        text-align: right;\n",
       "    }\n",
       "</style>\n",
       "<table border=\"1\" class=\"dataframe\">\n",
       "  <thead>\n",
       "    <tr style=\"text-align: right;\">\n",
       "      <th></th>\n",
       "      <th>0</th>\n",
       "      <th>1</th>\n",
       "    </tr>\n",
       "  </thead>\n",
       "  <tbody>\n",
       "    <tr>\n",
       "      <th>0</th>\n",
       "      <td>6895003</td>\n",
       "      <td>2019-04-26 17:25:46.111582</td>\n",
       "    </tr>\n",
       "    <tr>\n",
       "      <th>1</th>\n",
       "      <td>6895003</td>\n",
       "      <td>2019-04-26 17:26:07.830930</td>\n",
       "    </tr>\n",
       "  </tbody>\n",
       "</table>\n",
       "</div>"
      ],
      "text/plain": [
       "         0                          1\n",
       "0  6895003 2019-04-26 17:25:46.111582\n",
       "1  6895003 2019-04-26 17:26:07.830930"
      ]
     },
     "execution_count": 39,
     "metadata": {},
     "output_type": "execute_result"
    }
   ],
   "source": [
    "fa = pd.DataFrame(fortnite_avengers_views)\n",
    "fa.head()"
   ]
  },
  {
   "cell_type": "code",
   "execution_count": null,
   "metadata": {},
   "outputs": [],
   "source": []
  }
 ],
 "metadata": {
  "kernelspec": {
   "display_name": "Python [conda env:root]",
   "language": "python",
   "name": "conda-root-py"
  },
  "language_info": {
   "codemirror_mode": {
    "name": "ipython",
    "version": 3
   },
   "file_extension": ".py",
   "mimetype": "text/x-python",
   "name": "python",
   "nbconvert_exporter": "python",
   "pygments_lexer": "ipython3",
   "version": "3.7.1"
  }
 },
 "nbformat": 4,
 "nbformat_minor": 2
}
